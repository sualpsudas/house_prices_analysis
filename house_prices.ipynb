{
 "cells": [
  {
   "cell_type": "markdown",
   "id": "7da592c6",
   "metadata": {},
   "source": [
    "# Examination the house prices"
   ]
  },
  {
   "cell_type": "markdown",
   "id": "250c6f92",
   "metadata": {},
   "source": [
    "> ### Make the data set meaningful and visualize."
   ]
  },
  {
   "cell_type": "markdown",
   "id": "580b57d6",
   "metadata": {},
   "source": [
    "`Importing the very useful library for data manipulation Pandas and for numerical operations numpy.`"
   ]
  },
  {
   "cell_type": "code",
   "execution_count": 1,
   "id": "16ec7eaf",
   "metadata": {},
   "outputs": [],
   "source": [
    "import pandas as pd\n",
    "import numpy as np"
   ]
  },
  {
   "cell_type": "markdown",
   "id": "48b26b4a",
   "metadata": {},
   "source": [
    "`Loading the dataset and assign it a variable.`"
   ]
  },
  {
   "cell_type": "code",
   "execution_count": 2,
   "id": "b0c1c4d8",
   "metadata": {},
   "outputs": [],
   "source": [
    "data=pd.read_excel(\"house_prices.xlsx\")"
   ]
  },
  {
   "cell_type": "markdown",
   "id": "102409d4",
   "metadata": {},
   "source": [
    "`Browse the dataset for first look like features, how many units in there and types of features.`"
   ]
  },
  {
   "cell_type": "code",
   "execution_count": 3,
   "id": "bafe1be9",
   "metadata": {},
   "outputs": [
    {
     "name": "stdout",
     "output_type": "stream",
     "text": [
      "<class 'pandas.core.frame.DataFrame'>\n",
      "RangeIndex: 4600 entries, 0 to 4599\n",
      "Data columns (total 18 columns):\n",
      " #   Column         Non-Null Count  Dtype         \n",
      "---  ------         --------------  -----         \n",
      " 0   date           4600 non-null   datetime64[ns]\n",
      " 1   price          4600 non-null   int64         \n",
      " 2   bedrooms       4600 non-null   int64         \n",
      " 3   bathrooms      4600 non-null   int64         \n",
      " 4   sqft_living    4600 non-null   int64         \n",
      " 5   sqft_lot       4600 non-null   int64         \n",
      " 6   floors         4600 non-null   int64         \n",
      " 7   waterfront     4600 non-null   int64         \n",
      " 8   view           4600 non-null   int64         \n",
      " 9   condition      4600 non-null   int64         \n",
      " 10  sqft_above     4600 non-null   int64         \n",
      " 11  sqft_basement  4600 non-null   int64         \n",
      " 12  yr_built       4600 non-null   int64         \n",
      " 13  yr_renovated   4600 non-null   int64         \n",
      " 14  street         4600 non-null   object        \n",
      " 15  city           4600 non-null   object        \n",
      " 16  statezip       4600 non-null   object        \n",
      " 17  country        4600 non-null   object        \n",
      "dtypes: datetime64[ns](1), int64(13), object(4)\n",
      "memory usage: 647.0+ KB\n"
     ]
    }
   ],
   "source": [
    "data.info()"
   ]
  },
  {
   "cell_type": "markdown",
   "id": "22db3be8",
   "metadata": {},
   "source": [
    "`See, there are 18 features with integers datetime and object(string...) and we have 4600 units.`"
   ]
  },
  {
   "cell_type": "markdown",
   "id": "6ab89680",
   "metadata": {},
   "source": [
    "`Lets assume there will be a project where prices are predicted and adapt the data accordingly.`"
   ]
  },
  {
   "cell_type": "markdown",
   "id": "6a07e812",
   "metadata": {},
   "source": [
    "`It is given in the info section, but if we check it anyway, we can see that there is no null value so:`"
   ]
  },
  {
   "cell_type": "code",
   "execution_count": 4,
   "id": "e47f5baf",
   "metadata": {},
   "outputs": [
    {
     "data": {
      "text/plain": [
       "date             0\n",
       "price            0\n",
       "bedrooms         0\n",
       "bathrooms        0\n",
       "sqft_living      0\n",
       "sqft_lot         0\n",
       "floors           0\n",
       "waterfront       0\n",
       "view             0\n",
       "condition        0\n",
       "sqft_above       0\n",
       "sqft_basement    0\n",
       "yr_built         0\n",
       "yr_renovated     0\n",
       "street           0\n",
       "city             0\n",
       "statezip         0\n",
       "country          0\n",
       "dtype: int64"
      ]
     },
     "execution_count": 4,
     "metadata": {},
     "output_type": "execute_result"
    }
   ],
   "source": [
    "data.isnull().sum()"
   ]
  },
  {
   "cell_type": "markdown",
   "id": "c7a85431",
   "metadata": {},
   "source": [
    "`See there is no null unit here that we re not going to use imputing.`"
   ]
  },
  {
   "cell_type": "markdown",
   "id": "e12cefa1",
   "metadata": {},
   "source": [
    "`Now we can see the mean,std,min,max etc values of the features with the describe function.`"
   ]
  },
  {
   "cell_type": "code",
   "execution_count": 5,
   "id": "8ed8ba71",
   "metadata": {},
   "outputs": [
    {
     "data": {
      "text/html": [
       "<div>\n",
       "<style scoped>\n",
       "    .dataframe tbody tr th:only-of-type {\n",
       "        vertical-align: middle;\n",
       "    }\n",
       "\n",
       "    .dataframe tbody tr th {\n",
       "        vertical-align: top;\n",
       "    }\n",
       "\n",
       "    .dataframe thead th {\n",
       "        text-align: right;\n",
       "    }\n",
       "</style>\n",
       "<table border=\"1\" class=\"dataframe\">\n",
       "  <thead>\n",
       "    <tr style=\"text-align: right;\">\n",
       "      <th></th>\n",
       "      <th>price</th>\n",
       "      <th>bedrooms</th>\n",
       "      <th>bathrooms</th>\n",
       "      <th>sqft_living</th>\n",
       "      <th>sqft_lot</th>\n",
       "      <th>floors</th>\n",
       "      <th>waterfront</th>\n",
       "      <th>view</th>\n",
       "      <th>condition</th>\n",
       "      <th>sqft_above</th>\n",
       "      <th>sqft_basement</th>\n",
       "      <th>yr_built</th>\n",
       "      <th>yr_renovated</th>\n",
       "    </tr>\n",
       "  </thead>\n",
       "  <tbody>\n",
       "    <tr>\n",
       "      <th>count</th>\n",
       "      <td>4.600000e+03</td>\n",
       "      <td>4600.000000</td>\n",
       "      <td>4600.000000</td>\n",
       "      <td>4600.000000</td>\n",
       "      <td>4.600000e+03</td>\n",
       "      <td>4600.000000</td>\n",
       "      <td>4600.000000</td>\n",
       "      <td>4600.000000</td>\n",
       "      <td>4600.000000</td>\n",
       "      <td>4600.000000</td>\n",
       "      <td>4600.000000</td>\n",
       "      <td>4600.000000</td>\n",
       "      <td>4600.000000</td>\n",
       "    </tr>\n",
       "    <tr>\n",
       "      <th>mean</th>\n",
       "      <td>6.366566e+09</td>\n",
       "      <td>34.008696</td>\n",
       "      <td>91.588043</td>\n",
       "      <td>2139.346957</td>\n",
       "      <td>1.485252e+04</td>\n",
       "      <td>15.120652</td>\n",
       "      <td>0.007174</td>\n",
       "      <td>0.240652</td>\n",
       "      <td>3.451739</td>\n",
       "      <td>1827.265435</td>\n",
       "      <td>312.081522</td>\n",
       "      <td>1970.786304</td>\n",
       "      <td>808.608261</td>\n",
       "    </tr>\n",
       "    <tr>\n",
       "      <th>std</th>\n",
       "      <td>5.269738e+10</td>\n",
       "      <td>9.088481</td>\n",
       "      <td>106.752936</td>\n",
       "      <td>963.206916</td>\n",
       "      <td>3.588444e+04</td>\n",
       "      <td>5.382884</td>\n",
       "      <td>0.084404</td>\n",
       "      <td>0.778405</td>\n",
       "      <td>0.677230</td>\n",
       "      <td>862.168977</td>\n",
       "      <td>464.137228</td>\n",
       "      <td>29.731848</td>\n",
       "      <td>979.414536</td>\n",
       "    </tr>\n",
       "    <tr>\n",
       "      <th>min</th>\n",
       "      <td>0.000000e+00</td>\n",
       "      <td>0.000000</td>\n",
       "      <td>0.000000</td>\n",
       "      <td>370.000000</td>\n",
       "      <td>6.380000e+02</td>\n",
       "      <td>10.000000</td>\n",
       "      <td>0.000000</td>\n",
       "      <td>0.000000</td>\n",
       "      <td>1.000000</td>\n",
       "      <td>370.000000</td>\n",
       "      <td>0.000000</td>\n",
       "      <td>1900.000000</td>\n",
       "      <td>0.000000</td>\n",
       "    </tr>\n",
       "    <tr>\n",
       "      <th>25%</th>\n",
       "      <td>3.278750e+06</td>\n",
       "      <td>30.000000</td>\n",
       "      <td>20.000000</td>\n",
       "      <td>1460.000000</td>\n",
       "      <td>5.000750e+03</td>\n",
       "      <td>10.000000</td>\n",
       "      <td>0.000000</td>\n",
       "      <td>0.000000</td>\n",
       "      <td>3.000000</td>\n",
       "      <td>1190.000000</td>\n",
       "      <td>0.000000</td>\n",
       "      <td>1951.000000</td>\n",
       "      <td>0.000000</td>\n",
       "    </tr>\n",
       "    <tr>\n",
       "      <th>50%</th>\n",
       "      <td>4.710000e+06</td>\n",
       "      <td>30.000000</td>\n",
       "      <td>25.000000</td>\n",
       "      <td>1980.000000</td>\n",
       "      <td>7.683000e+03</td>\n",
       "      <td>15.000000</td>\n",
       "      <td>0.000000</td>\n",
       "      <td>0.000000</td>\n",
       "      <td>3.000000</td>\n",
       "      <td>1590.000000</td>\n",
       "      <td>0.000000</td>\n",
       "      <td>1976.000000</td>\n",
       "      <td>0.000000</td>\n",
       "    </tr>\n",
       "    <tr>\n",
       "      <th>75%</th>\n",
       "      <td>6.725000e+06</td>\n",
       "      <td>40.000000</td>\n",
       "      <td>175.000000</td>\n",
       "      <td>2620.000000</td>\n",
       "      <td>1.100125e+04</td>\n",
       "      <td>20.000000</td>\n",
       "      <td>0.000000</td>\n",
       "      <td>0.000000</td>\n",
       "      <td>4.000000</td>\n",
       "      <td>2300.000000</td>\n",
       "      <td>610.000000</td>\n",
       "      <td>1997.000000</td>\n",
       "      <td>1999.000000</td>\n",
       "    </tr>\n",
       "    <tr>\n",
       "      <th>max</th>\n",
       "      <td>9.508333e+11</td>\n",
       "      <td>90.000000</td>\n",
       "      <td>675.000000</td>\n",
       "      <td>13540.000000</td>\n",
       "      <td>1.074218e+06</td>\n",
       "      <td>35.000000</td>\n",
       "      <td>1.000000</td>\n",
       "      <td>4.000000</td>\n",
       "      <td>5.000000</td>\n",
       "      <td>9410.000000</td>\n",
       "      <td>4820.000000</td>\n",
       "      <td>2014.000000</td>\n",
       "      <td>2014.000000</td>\n",
       "    </tr>\n",
       "  </tbody>\n",
       "</table>\n",
       "</div>"
      ],
      "text/plain": [
       "              price     bedrooms    bathrooms   sqft_living      sqft_lot  \\\n",
       "count  4.600000e+03  4600.000000  4600.000000   4600.000000  4.600000e+03   \n",
       "mean   6.366566e+09    34.008696    91.588043   2139.346957  1.485252e+04   \n",
       "std    5.269738e+10     9.088481   106.752936    963.206916  3.588444e+04   \n",
       "min    0.000000e+00     0.000000     0.000000    370.000000  6.380000e+02   \n",
       "25%    3.278750e+06    30.000000    20.000000   1460.000000  5.000750e+03   \n",
       "50%    4.710000e+06    30.000000    25.000000   1980.000000  7.683000e+03   \n",
       "75%    6.725000e+06    40.000000   175.000000   2620.000000  1.100125e+04   \n",
       "max    9.508333e+11    90.000000   675.000000  13540.000000  1.074218e+06   \n",
       "\n",
       "            floors   waterfront         view    condition   sqft_above  \\\n",
       "count  4600.000000  4600.000000  4600.000000  4600.000000  4600.000000   \n",
       "mean     15.120652     0.007174     0.240652     3.451739  1827.265435   \n",
       "std       5.382884     0.084404     0.778405     0.677230   862.168977   \n",
       "min      10.000000     0.000000     0.000000     1.000000   370.000000   \n",
       "25%      10.000000     0.000000     0.000000     3.000000  1190.000000   \n",
       "50%      15.000000     0.000000     0.000000     3.000000  1590.000000   \n",
       "75%      20.000000     0.000000     0.000000     4.000000  2300.000000   \n",
       "max      35.000000     1.000000     4.000000     5.000000  9410.000000   \n",
       "\n",
       "       sqft_basement     yr_built  yr_renovated  \n",
       "count    4600.000000  4600.000000   4600.000000  \n",
       "mean      312.081522  1970.786304    808.608261  \n",
       "std       464.137228    29.731848    979.414536  \n",
       "min         0.000000  1900.000000      0.000000  \n",
       "25%         0.000000  1951.000000      0.000000  \n",
       "50%         0.000000  1976.000000      0.000000  \n",
       "75%       610.000000  1997.000000   1999.000000  \n",
       "max      4820.000000  2014.000000   2014.000000  "
      ]
     },
     "execution_count": 5,
     "metadata": {},
     "output_type": "execute_result"
    }
   ],
   "source": [
    "data.describe()"
   ]
  },
  {
   "cell_type": "markdown",
   "id": "ea1cf439",
   "metadata": {},
   "source": [
    "`This output tells us a lot.We can see the mean value of yr_renovated feature is much lower than yr_built actually there isnt something wrong. The reason is in the data, non-renovated houses are marked with 0 just for this output cannot make correct inferences by looking at these parts. The std values are too much. We re going to use interquartile range method for removing the outliers and realizing the data. `"
   ]
  },
  {
   "cell_type": "markdown",
   "id": "246d7576",
   "metadata": {},
   "source": [
    "`There is a way for show the n number of smallest,largest units in selected feature.`"
   ]
  },
  {
   "cell_type": "code",
   "execution_count": 6,
   "id": "b2114988",
   "metadata": {},
   "outputs": [
    {
     "data": {
      "text/html": [
       "<div>\n",
       "<style scoped>\n",
       "    .dataframe tbody tr th:only-of-type {\n",
       "        vertical-align: middle;\n",
       "    }\n",
       "\n",
       "    .dataframe tbody tr th {\n",
       "        vertical-align: top;\n",
       "    }\n",
       "\n",
       "    .dataframe thead th {\n",
       "        text-align: right;\n",
       "    }\n",
       "</style>\n",
       "<table border=\"1\" class=\"dataframe\">\n",
       "  <thead>\n",
       "    <tr style=\"text-align: right;\">\n",
       "      <th></th>\n",
       "      <th>date</th>\n",
       "      <th>price</th>\n",
       "      <th>bedrooms</th>\n",
       "      <th>bathrooms</th>\n",
       "      <th>sqft_living</th>\n",
       "      <th>sqft_lot</th>\n",
       "      <th>floors</th>\n",
       "      <th>waterfront</th>\n",
       "      <th>view</th>\n",
       "      <th>condition</th>\n",
       "      <th>sqft_above</th>\n",
       "      <th>sqft_basement</th>\n",
       "      <th>yr_built</th>\n",
       "      <th>yr_renovated</th>\n",
       "      <th>street</th>\n",
       "      <th>city</th>\n",
       "      <th>statezip</th>\n",
       "      <th>country</th>\n",
       "    </tr>\n",
       "  </thead>\n",
       "  <tbody>\n",
       "    <tr>\n",
       "      <th>4354</th>\n",
       "      <td>2014-05-05</td>\n",
       "      <td>0</td>\n",
       "      <td>30</td>\n",
       "      <td>175</td>\n",
       "      <td>1490</td>\n",
       "      <td>10125</td>\n",
       "      <td>10</td>\n",
       "      <td>0</td>\n",
       "      <td>0</td>\n",
       "      <td>4</td>\n",
       "      <td>1490</td>\n",
       "      <td>0</td>\n",
       "      <td>1962</td>\n",
       "      <td>0</td>\n",
       "      <td>3911 S 328th St</td>\n",
       "      <td>Federal Way</td>\n",
       "      <td>WA 98001</td>\n",
       "      <td>USA</td>\n",
       "    </tr>\n",
       "    <tr>\n",
       "      <th>4356</th>\n",
       "      <td>2014-05-05</td>\n",
       "      <td>0</td>\n",
       "      <td>40</td>\n",
       "      <td>275</td>\n",
       "      <td>2600</td>\n",
       "      <td>5390</td>\n",
       "      <td>10</td>\n",
       "      <td>0</td>\n",
       "      <td>0</td>\n",
       "      <td>4</td>\n",
       "      <td>1300</td>\n",
       "      <td>1300</td>\n",
       "      <td>1960</td>\n",
       "      <td>2001</td>\n",
       "      <td>2120 31st Ave W</td>\n",
       "      <td>Seattle</td>\n",
       "      <td>WA 98199</td>\n",
       "      <td>USA</td>\n",
       "    </tr>\n",
       "    <tr>\n",
       "      <th>4357</th>\n",
       "      <td>2014-05-05</td>\n",
       "      <td>0</td>\n",
       "      <td>60</td>\n",
       "      <td>275</td>\n",
       "      <td>3200</td>\n",
       "      <td>9200</td>\n",
       "      <td>10</td>\n",
       "      <td>0</td>\n",
       "      <td>2</td>\n",
       "      <td>4</td>\n",
       "      <td>1600</td>\n",
       "      <td>1600</td>\n",
       "      <td>1953</td>\n",
       "      <td>1983</td>\n",
       "      <td>12271 Marine View Dr SW</td>\n",
       "      <td>Burien</td>\n",
       "      <td>WA 98146</td>\n",
       "      <td>USA</td>\n",
       "    </tr>\n",
       "    <tr>\n",
       "      <th>4358</th>\n",
       "      <td>2014-05-06</td>\n",
       "      <td>0</td>\n",
       "      <td>50</td>\n",
       "      <td>35</td>\n",
       "      <td>3480</td>\n",
       "      <td>36615</td>\n",
       "      <td>20</td>\n",
       "      <td>0</td>\n",
       "      <td>0</td>\n",
       "      <td>4</td>\n",
       "      <td>2490</td>\n",
       "      <td>990</td>\n",
       "      <td>1983</td>\n",
       "      <td>0</td>\n",
       "      <td>21809 SE 38th Pl</td>\n",
       "      <td>Issaquah</td>\n",
       "      <td>WA 98075</td>\n",
       "      <td>USA</td>\n",
       "    </tr>\n",
       "    <tr>\n",
       "      <th>4361</th>\n",
       "      <td>2014-05-07</td>\n",
       "      <td>0</td>\n",
       "      <td>50</td>\n",
       "      <td>15</td>\n",
       "      <td>1500</td>\n",
       "      <td>7112</td>\n",
       "      <td>10</td>\n",
       "      <td>0</td>\n",
       "      <td>0</td>\n",
       "      <td>5</td>\n",
       "      <td>760</td>\n",
       "      <td>740</td>\n",
       "      <td>1920</td>\n",
       "      <td>0</td>\n",
       "      <td>14901-14999 12th Ave SW</td>\n",
       "      <td>Burien</td>\n",
       "      <td>WA 98166</td>\n",
       "      <td>USA</td>\n",
       "    </tr>\n",
       "  </tbody>\n",
       "</table>\n",
       "</div>"
      ],
      "text/plain": [
       "           date  price  bedrooms  bathrooms  sqft_living  sqft_lot  floors  \\\n",
       "4354 2014-05-05      0        30        175         1490     10125      10   \n",
       "4356 2014-05-05      0        40        275         2600      5390      10   \n",
       "4357 2014-05-05      0        60        275         3200      9200      10   \n",
       "4358 2014-05-06      0        50         35         3480     36615      20   \n",
       "4361 2014-05-07      0        50         15         1500      7112      10   \n",
       "\n",
       "      waterfront  view  condition  sqft_above  sqft_basement  yr_built  \\\n",
       "4354           0     0          4        1490              0      1962   \n",
       "4356           0     0          4        1300           1300      1960   \n",
       "4357           0     2          4        1600           1600      1953   \n",
       "4358           0     0          4        2490            990      1983   \n",
       "4361           0     0          5         760            740      1920   \n",
       "\n",
       "      yr_renovated                   street         city  statezip country  \n",
       "4354             0          3911 S 328th St  Federal Way  WA 98001     USA  \n",
       "4356          2001          2120 31st Ave W      Seattle  WA 98199     USA  \n",
       "4357          1983  12271 Marine View Dr SW       Burien  WA 98146     USA  \n",
       "4358             0         21809 SE 38th Pl     Issaquah  WA 98075     USA  \n",
       "4361             0  14901-14999 12th Ave SW       Burien  WA 98166     USA  "
      ]
     },
     "execution_count": 6,
     "metadata": {},
     "output_type": "execute_result"
    }
   ],
   "source": [
    "data.nsmallest(5,\"price\")"
   ]
  },
  {
   "cell_type": "markdown",
   "id": "c736f607",
   "metadata": {},
   "source": [
    "`It can show us there is some units that we shouldnt use.The 0 numbers. They can affect the solution but dont really mean anything numerically so we are going to remove them from the dataset.`"
   ]
  },
  {
   "cell_type": "markdown",
   "id": "c2c59d1c",
   "metadata": {},
   "source": [
    "`There is so much way to filtering in pandas, wre going to use statements in brackets.`"
   ]
  },
  {
   "cell_type": "code",
   "execution_count": 7,
   "id": "dfc522dc",
   "metadata": {},
   "outputs": [
    {
     "name": "stdout",
     "output_type": "stream",
     "text": [
      "(4551, 18)\n"
     ]
    }
   ],
   "source": [
    "data=data[data[\"price\"]!=0]\n",
    "print(data.shape)"
   ]
  },
  {
   "cell_type": "markdown",
   "id": "7607c508",
   "metadata": {},
   "source": [
    "`It can be seen here that the newer has less units than it.`"
   ]
  },
  {
   "cell_type": "markdown",
   "id": "ccd38534",
   "metadata": {},
   "source": [
    "`Finally we came to the IQR(interquartile range) section.`"
   ]
  },
  {
   "cell_type": "markdown",
   "id": "af72e909",
   "metadata": {},
   "source": [
    "`There is a way that using quantile function for IQR computing so here is the algorithm for compute the IQR and remove the outliers. `"
   ]
  },
  {
   "cell_type": "code",
   "execution_count": 8,
   "id": "7a504dbe",
   "metadata": {},
   "outputs": [
    {
     "data": {
      "text/plain": [
       "(4233, 18)"
      ]
     },
     "execution_count": 8,
     "metadata": {},
     "output_type": "execute_result"
    }
   ],
   "source": [
    "Q1=data.price.quantile(0.25)\n",
    "Q3=data.price.quantile(0.75)\n",
    "IQR=Q3-Q1\n",
    "lower_limit=Q1-1.5*IQR\n",
    "upper_limit=Q3+1.5*IQR\n",
    "data2=data[(data[\"price\"] > lower_limit)&(data[\"price\"] < upper_limit)]\n",
    "data2.shape"
   ]
  },
  {
   "cell_type": "markdown",
   "id": "8bfab761",
   "metadata": {},
   "source": [
    "`We can see the change in the number of units so lets get look over the statistical values.By the way we did assign the new data as data2 for future comparision between old and new one.`"
   ]
  },
  {
   "cell_type": "code",
   "execution_count": 9,
   "id": "e3fe65b5",
   "metadata": {},
   "outputs": [
    {
     "data": {
      "text/html": [
       "<div>\n",
       "<style scoped>\n",
       "    .dataframe tbody tr th:only-of-type {\n",
       "        vertical-align: middle;\n",
       "    }\n",
       "\n",
       "    .dataframe tbody tr th {\n",
       "        vertical-align: top;\n",
       "    }\n",
       "\n",
       "    .dataframe thead th {\n",
       "        text-align: right;\n",
       "    }\n",
       "</style>\n",
       "<table border=\"1\" class=\"dataframe\">\n",
       "  <thead>\n",
       "    <tr style=\"text-align: right;\">\n",
       "      <th></th>\n",
       "      <th>price</th>\n",
       "      <th>bedrooms</th>\n",
       "      <th>bathrooms</th>\n",
       "      <th>sqft_living</th>\n",
       "      <th>sqft_lot</th>\n",
       "      <th>floors</th>\n",
       "      <th>waterfront</th>\n",
       "      <th>view</th>\n",
       "      <th>condition</th>\n",
       "      <th>sqft_above</th>\n",
       "      <th>sqft_basement</th>\n",
       "      <th>yr_built</th>\n",
       "      <th>yr_renovated</th>\n",
       "    </tr>\n",
       "  </thead>\n",
       "  <tbody>\n",
       "    <tr>\n",
       "      <th>count</th>\n",
       "      <td>4.233000e+03</td>\n",
       "      <td>4233.000000</td>\n",
       "      <td>4233.000000</td>\n",
       "      <td>4233.000000</td>\n",
       "      <td>4.233000e+03</td>\n",
       "      <td>4233.000000</td>\n",
       "      <td>4233.000000</td>\n",
       "      <td>4233.000000</td>\n",
       "      <td>4233.000000</td>\n",
       "      <td>4233.000000</td>\n",
       "      <td>4233.000000</td>\n",
       "      <td>4233.000000</td>\n",
       "      <td>4233.000000</td>\n",
       "    </tr>\n",
       "    <tr>\n",
       "      <th>mean</th>\n",
       "      <td>4.918566e+06</td>\n",
       "      <td>33.536499</td>\n",
       "      <td>87.864399</td>\n",
       "      <td>2036.627923</td>\n",
       "      <td>1.457518e+04</td>\n",
       "      <td>14.955115</td>\n",
       "      <td>0.004016</td>\n",
       "      <td>0.178124</td>\n",
       "      <td>3.445074</td>\n",
       "      <td>1750.014411</td>\n",
       "      <td>286.613513</td>\n",
       "      <td>1970.834869</td>\n",
       "      <td>810.917789</td>\n",
       "    </tr>\n",
       "    <tr>\n",
       "      <th>std</th>\n",
       "      <td>2.187687e+06</td>\n",
       "      <td>8.832598</td>\n",
       "      <td>101.503285</td>\n",
       "      <td>815.388828</td>\n",
       "      <td>3.606465e+04</td>\n",
       "      <td>5.372281</td>\n",
       "      <td>0.063253</td>\n",
       "      <td>0.653928</td>\n",
       "      <td>0.671363</td>\n",
       "      <td>766.060364</td>\n",
       "      <td>424.645228</td>\n",
       "      <td>29.596234</td>\n",
       "      <td>979.916784</td>\n",
       "    </tr>\n",
       "    <tr>\n",
       "      <th>min</th>\n",
       "      <td>7.800000e+04</td>\n",
       "      <td>0.000000</td>\n",
       "      <td>0.000000</td>\n",
       "      <td>370.000000</td>\n",
       "      <td>6.380000e+02</td>\n",
       "      <td>10.000000</td>\n",
       "      <td>0.000000</td>\n",
       "      <td>0.000000</td>\n",
       "      <td>1.000000</td>\n",
       "      <td>370.000000</td>\n",
       "      <td>0.000000</td>\n",
       "      <td>1900.000000</td>\n",
       "      <td>0.000000</td>\n",
       "    </tr>\n",
       "    <tr>\n",
       "      <th>25%</th>\n",
       "      <td>3.230000e+06</td>\n",
       "      <td>30.000000</td>\n",
       "      <td>20.000000</td>\n",
       "      <td>1440.000000</td>\n",
       "      <td>5.000000e+03</td>\n",
       "      <td>10.000000</td>\n",
       "      <td>0.000000</td>\n",
       "      <td>0.000000</td>\n",
       "      <td>3.000000</td>\n",
       "      <td>1170.000000</td>\n",
       "      <td>0.000000</td>\n",
       "      <td>1951.000000</td>\n",
       "      <td>0.000000</td>\n",
       "    </tr>\n",
       "    <tr>\n",
       "      <th>50%</th>\n",
       "      <td>4.520000e+06</td>\n",
       "      <td>30.000000</td>\n",
       "      <td>25.000000</td>\n",
       "      <td>1930.000000</td>\n",
       "      <td>7.568000e+03</td>\n",
       "      <td>15.000000</td>\n",
       "      <td>0.000000</td>\n",
       "      <td>0.000000</td>\n",
       "      <td>3.000000</td>\n",
       "      <td>1540.000000</td>\n",
       "      <td>0.000000</td>\n",
       "      <td>1976.000000</td>\n",
       "      <td>0.000000</td>\n",
       "    </tr>\n",
       "    <tr>\n",
       "      <th>75%</th>\n",
       "      <td>6.200000e+06</td>\n",
       "      <td>40.000000</td>\n",
       "      <td>175.000000</td>\n",
       "      <td>2510.000000</td>\n",
       "      <td>1.069800e+04</td>\n",
       "      <td>20.000000</td>\n",
       "      <td>0.000000</td>\n",
       "      <td>0.000000</td>\n",
       "      <td>4.000000</td>\n",
       "      <td>2200.000000</td>\n",
       "      <td>570.000000</td>\n",
       "      <td>1997.000000</td>\n",
       "      <td>1999.000000</td>\n",
       "    </tr>\n",
       "    <tr>\n",
       "      <th>max</th>\n",
       "      <td>1.190000e+07</td>\n",
       "      <td>90.000000</td>\n",
       "      <td>575.000000</td>\n",
       "      <td>7320.000000</td>\n",
       "      <td>1.074218e+06</td>\n",
       "      <td>35.000000</td>\n",
       "      <td>1.000000</td>\n",
       "      <td>4.000000</td>\n",
       "      <td>5.000000</td>\n",
       "      <td>7320.000000</td>\n",
       "      <td>2300.000000</td>\n",
       "      <td>2014.000000</td>\n",
       "      <td>2014.000000</td>\n",
       "    </tr>\n",
       "  </tbody>\n",
       "</table>\n",
       "</div>"
      ],
      "text/plain": [
       "              price     bedrooms    bathrooms  sqft_living      sqft_lot  \\\n",
       "count  4.233000e+03  4233.000000  4233.000000  4233.000000  4.233000e+03   \n",
       "mean   4.918566e+06    33.536499    87.864399  2036.627923  1.457518e+04   \n",
       "std    2.187687e+06     8.832598   101.503285   815.388828  3.606465e+04   \n",
       "min    7.800000e+04     0.000000     0.000000   370.000000  6.380000e+02   \n",
       "25%    3.230000e+06    30.000000    20.000000  1440.000000  5.000000e+03   \n",
       "50%    4.520000e+06    30.000000    25.000000  1930.000000  7.568000e+03   \n",
       "75%    6.200000e+06    40.000000   175.000000  2510.000000  1.069800e+04   \n",
       "max    1.190000e+07    90.000000   575.000000  7320.000000  1.074218e+06   \n",
       "\n",
       "            floors   waterfront         view    condition   sqft_above  \\\n",
       "count  4233.000000  4233.000000  4233.000000  4233.000000  4233.000000   \n",
       "mean     14.955115     0.004016     0.178124     3.445074  1750.014411   \n",
       "std       5.372281     0.063253     0.653928     0.671363   766.060364   \n",
       "min      10.000000     0.000000     0.000000     1.000000   370.000000   \n",
       "25%      10.000000     0.000000     0.000000     3.000000  1170.000000   \n",
       "50%      15.000000     0.000000     0.000000     3.000000  1540.000000   \n",
       "75%      20.000000     0.000000     0.000000     4.000000  2200.000000   \n",
       "max      35.000000     1.000000     4.000000     5.000000  7320.000000   \n",
       "\n",
       "       sqft_basement     yr_built  yr_renovated  \n",
       "count    4233.000000  4233.000000   4233.000000  \n",
       "mean      286.613513  1970.834869    810.917789  \n",
       "std       424.645228    29.596234    979.916784  \n",
       "min         0.000000  1900.000000      0.000000  \n",
       "25%         0.000000  1951.000000      0.000000  \n",
       "50%         0.000000  1976.000000      0.000000  \n",
       "75%       570.000000  1997.000000   1999.000000  \n",
       "max      2300.000000  2014.000000   2014.000000  "
      ]
     },
     "execution_count": 9,
     "metadata": {},
     "output_type": "execute_result"
    }
   ],
   "source": [
    "data2.describe()"
   ]
  },
  {
   "cell_type": "markdown",
   "id": "98996a3d",
   "metadata": {},
   "source": [
    "`As shown below so much thing is changed like standard deviation in prices.`"
   ]
  },
  {
   "cell_type": "markdown",
   "id": "7dcd3104",
   "metadata": {},
   "source": [
    "`So we can import the matplotlib for visualising library for see that how the price linearity changed.`"
   ]
  },
  {
   "cell_type": "code",
   "execution_count": 10,
   "id": "e87033e8",
   "metadata": {},
   "outputs": [
    {
     "data": {
      "text/plain": [
       "<matplotlib.collections.PathCollection at 0x1ac1eb97d90>"
      ]
     },
     "execution_count": 10,
     "metadata": {},
     "output_type": "execute_result"
    },
    {
     "data": {
      "image/png": "[encoded data removed]",
      "text/plain": [
       "<Figure size 432x288 with 1 Axes>"
      ]
     },
     "metadata": {
      "needs_background": "light"
     },
     "output_type": "display_data"
    }
   ],
   "source": [
    "import matplotlib.pyplot as plt\n",
    "data=data.sort_values(\"price\",ascending=True)\n",
    "data.reset_index(inplace=True,drop=True)\n",
    "plt.scatter(x=data[\"price\"],y=data.index)"
   ]
  },
  {
   "cell_type": "code",
   "execution_count": 11,
   "id": "7113bb3c",
   "metadata": {},
   "outputs": [
    {
     "data": {
      "text/plain": [
       "<matplotlib.collections.PathCollection at 0x1ac1f330e80>"
      ]
     },
     "execution_count": 11,
     "metadata": {},
     "output_type": "execute_result"
    },
    {
     "data": {
      "image/png": "[encoded data removed]",
      "text/plain": [
       "<Figure size 432x288 with 1 Axes>"
      ]
     },
     "metadata": {
      "needs_background": "light"
     },
     "output_type": "display_data"
    }
   ],
   "source": [
    "data2=data2.sort_values(\"price\",ascending=True)\n",
    "data2.reset_index(inplace=True,drop=True)\n",
    "plt.scatter(x=data2[\"price\"],y=data2.index)"
   ]
  },
  {
   "cell_type": "markdown",
   "id": "97fa0d53",
   "metadata": {},
   "source": [
    "`As seen in the figures, we obtained a more linear data set in terms of price thanks to IQR.`"
   ]
  },
  {
   "cell_type": "code",
   "execution_count": 12,
   "id": "2ae89234",
   "metadata": {},
   "outputs": [
    {
     "data": {
      "text/plain": [
       "93.01252471984179"
      ]
     },
     "execution_count": 12,
     "metadata": {},
     "output_type": "execute_result"
    }
   ],
   "source": [
    "data2.shape[0]/data.shape[0]*100"
   ]
  },
  {
   "cell_type": "markdown",
   "id": "4a67f024",
   "metadata": {},
   "source": [
    "`We eliminated only 7% of the dataset with simple math and got a more meaningful dataset.`"
   ]
  },
  {
   "cell_type": "markdown",
   "id": "e7241b5d",
   "metadata": {},
   "source": [
    "# Visualize"
   ]
  },
  {
   "cell_type": "markdown",
   "id": "5799412b",
   "metadata": {},
   "source": [
    "> ### There is so much library for visualising in python, i found that the most used ones are matplotlib and seaborn."
   ]
  },
  {
   "cell_type": "markdown",
   "id": "3077f6fe",
   "metadata": {},
   "source": [
    "`Let's take a look at the final version of our data.`"
   ]
  },
  {
   "cell_type": "code",
   "execution_count": 13,
   "id": "0dfb1efa",
   "metadata": {},
   "outputs": [
    {
     "data": {
      "image/png": "[encoded data removed]",
      "text/plain": [
       "<Figure size 432x288 with 1 Axes>"
      ]
     },
     "metadata": {},
     "output_type": "display_data"
    }
   ],
   "source": [
    "labels = data2.dtypes.value_counts().index\n",
    "sizes = data2.dtypes.value_counts()\n",
    "explode = (0.2, 0.1, 0)\n",
    "\n",
    "fig1, ax1 = plt.subplots()\n",
    "ax1.pie(sizes,explode=explode, labels=labels, autopct='%1.1f%%',\n",
    "        shadow=True, startangle=70)\n",
    "ax1.axis('equal')  # Equal aspect ratio ensures that pie is drawn as a circle.\n",
    "\n",
    "plt.show()"
   ]
  },
  {
   "cell_type": "markdown",
   "id": "58ff3e9c",
   "metadata": {},
   "source": [
    "`We've shown a summary of how widely used data types are in a pie chart, of course can add here a bar to show how much in it.`"
   ]
  },
  {
   "cell_type": "code",
   "execution_count": 14,
   "id": "f0415628",
   "metadata": {},
   "outputs": [],
   "source": [
    "ex=data2.groupby(data2.city).mean().price"
   ]
  },
  {
   "cell_type": "markdown",
   "id": "0f46bc2b",
   "metadata": {},
   "source": [
    "`We grouped the data by cities and averaged them.This allowed us to chart the average price on each.`"
   ]
  },
  {
   "cell_type": "code",
   "execution_count": 15,
   "id": "871b4df9",
   "metadata": {},
   "outputs": [
    {
     "data": {
      "text/plain": [
       "<AxesSubplot:title={'center':'Average House Prices of Cities'}, xlabel='price', ylabel='city'>"
      ]
     },
     "execution_count": 15,
     "metadata": {},
     "output_type": "execute_result"
    },
    {
     "data": {
      "image/png": "[encoded data removed]",
      "text/plain": [
       "<Figure size 350x400 with 1 Axes>"
      ]
     },
     "metadata": {},
     "output_type": "display_data"
    }
   ],
   "source": [
    "import seaborn as sbn\n",
    "plt.figure( figsize=(7,8), dpi=50, facecolor='c', edgecolor='r',)\n",
    "plt.title('Average House Prices of Cities')\n",
    "sbn.barplot(x=ex.sort_values(),y=ex.sort_values().index,saturation=1, palette=\"Blues_d\")"
   ]
  },
  {
   "cell_type": "code",
   "execution_count": 16,
   "id": "5d4d926f",
   "metadata": {},
   "outputs": [
    {
     "data": {
      "text/plain": [
       "<AxesSubplot:title={'center':'Histogram of Data2 Prices'}, xlabel='price', ylabel='Count'>"
      ]
     },
     "execution_count": 16,
     "metadata": {},
     "output_type": "execute_result"
    },
    {
     "data": {
      "image/png": "[encoded data removed]",
      "text/plain": [
       "<Figure size 400x400 with 1 Axes>"
      ]
     },
     "metadata": {},
     "output_type": "display_data"
    }
   ],
   "source": [
    "plt.figure( figsize=(5,5), dpi=80, facecolor='w')\n",
    "min_ylim,max_ylim=plt.ylim()\n",
    "plt.axvline(data2.price.mean(), color='r', linestyle='dashed', linewidth=2)\n",
    "plt.text(data2.price.mean()*1.6, max_ylim*150, 'Mean: {:.2f}'.format(data2.price.mean()),color='r')\n",
    "\n",
    "plt.axvline(data2.price.median(), color='y', linestyle='dashed', linewidth=2)\n",
    "plt.text(data2.price.median()*1.4, max_ylim*215, 'Median: {:.2f}'.format(data2.price.median()),color='y')\n",
    "\n",
    "plt.axvline(data2.price.std(), color='k', linestyle='dashed', linewidth=2)\n",
    "plt.text(data2.price.std()*2.4, max_ylim*280, 'STD: {:.2f}'.format(data2.price.std()),color='k')\n",
    "\n",
    "plt.title('Histogram of Data2 Prices')\n",
    "sbn.histplot(data2.price)"
   ]
  },
  {
   "cell_type": "markdown",
   "id": "92b9ff5d",
   "metadata": {},
   "source": [
    "`Here is the Histogram graph with mean median and standard deviation valus for prices in our final data.`"
   ]
  },
  {
   "cell_type": "markdown",
   "id": "3eea2f48",
   "metadata": {},
   "source": [
    "`After all of these , of course there is so much thing to show .This page contains an example for preprocessing a dataset for machine learning models and a few visualising techniques.`"
   ]
  }
 ],
 "metadata": {
  "kernelspec": {
   "display_name": "Python 3",
   "language": "python",
   "name": "python3"
  },
  "language_info": {
   "codemirror_mode": {
    "name": "ipython",
    "version": 3
   },
   "file_extension": ".py",
   "mimetype": "text/x-python",
   "name": "python",
   "nbconvert_exporter": "python",
   "pygments_lexer": "ipython3",
   "version": "3.8.10"
  }
 },
 "nbformat": 4,
 "nbformat_minor": 5
}
